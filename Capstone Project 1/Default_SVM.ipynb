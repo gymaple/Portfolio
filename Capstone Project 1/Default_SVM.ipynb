{
 "cells": [
  {
   "cell_type": "markdown",
   "metadata": {},
   "source": [
    "# Introduction\n",
    "\n",
    "According the [S&P/Experian Consumer Credit Default Index](https://us.spindices.com/index-family/specialty/consumer-credit-default), consumer credit default indices show higher default rates for all loan types in December 2018. Residents of big cities, including Chicago, New York, Los Angeles, Dallas or Miami, have the highest default rate. For banks and other financial institute, it is important to be able to predict which customers is more likely to default on their debts. So they can avoid paying the debts for their customers in the end. Predicting credit card default is a very important topic for financial institutes, as it is similar to the problem of financial fraud detection.\n",
    "\n",
    "\n",
    "Financial fraud detection is a very important topic. In [Oxford English Dictionary](p.562), it defined fraud as \"wrongful or criminal deception intended to result in financial or personal gain.\" In Economics, financial fraud is an increasingly serious problem. Enron, Cendant, and WorldCom are examples of large companies torn apart by financial fraud and scandal. The most common financial fraud includes bank fraud, insurance fraud, securities, and commodities fraud, and corporate fraud, etc. The related research paper shows that data mining techniques have been applied most extensively to the detection of insurance fraud, then corporate fraud and credit card fraud. \n",
    "\n",
    "Ngai et al. (2011) summaries the data mining techniques in financial fraud detection and reports six main classes of methods: classification, regression, clustering, prediction, outlier detection, and visualization. The primary data mining techniques used for financial fraud detection are logistic regression, neural networks, Naive Bayes, decision trees. In this project, I would like to use most of the methods mentioned above to predict on the credit card default rate on the dataset.\n",
    "\n",
    "\n",
    "# Dataset\n",
    "This data data set is about [default of credict card clients](https://archive.ics.uci.edu/ml/datasets/default+of+credit+card+clients). \n",
    "The original research aimed to compare the predictive accuracy of the probability of default among six data mining methods,  including K-nearest Neighbors (KNN), Naive Bayes (NB), Neural Networks (NNs), and classification trees.\n",
    "## Number of observations\n",
    "There are 30000 in total.\n",
    "## Attributes\n",
    "There are 23 different explanatory variables:\n",
    "- LIMIT_BAL: Amount of the given credit (NT dollar): it includes both the individual consumer credit and his/her family (supplementary) credit. \n",
    "- SEX: Gender (1 = male; 2 = female). \n",
    "- EDUCATION: Education (1 = graduate school; 2 = university; 3 = high school; 4 = others). \n",
    "- MARRIAGE: Marital status (1 = married; 2 = single; 3 = others). \n",
    "- AGE: Age (year). \n",
    "- PAY_0 – PAY_6: History of past payment. \n",
    "    - PAY_0 = the repayment status in September, 2005; \n",
    "- PAY_2 = the repayment status in August, 2005; \n",
    "- PAY_3 = the repayment status in July, 2005;\n",
    "- PAY_4 = the repayment status in June, 2005;\n",
    "- PAY_5 = the repayment status in May, 2005;\n",
    "    - PAY _6= the repayment status in April, 2005. \n",
    "    - The measurement scale for the repayment status is: \n",
    "        - 1 = pay duly; \n",
    "        - 1 = payment delay for one month; \n",
    "        - 2 = payment delay for two months; \n",
    "        - 3 = payment delay for two months;\n",
    "        - 4 = payment delay for two months;\n",
    "        - 5 = payment delay for eight months; \n",
    "        - 6 = payment delay for two months;\n",
    "        - 7 = payment delay for two months;\n",
    "        - 8 = payment delay for eight months; \n",
    "        - 9 = payment delay for nine months and above. \n",
    "- BILL_AMT1 – BILL_AMT6: Amount of bill statement (NT dollar).\n",
    "    - BILL_AMT1 = amount of bill statement in September, 2005; \n",
    "    - BILL_AMT2 = amount of bill statement in August, 2005; \n",
    "    - BILL_AMT3 = amount of bill statement in July, 2005; \n",
    "    - BILL_AMT4 = amount of bill statement in June, 2005; \n",
    "    - BILL_AMT5 = amount of bill statement in May, 2005; \n",
    "- BILL_AMT6 = amount of bill statement in April, 2005. \n",
    "- PAY_AMT1 - PAY_AMT6: Amount of previous payment (NT dollar). \n",
    "    - PAY_AMT1 = amount paid in September, 2005; \n",
    "    - PAY_AMT2 = amount paid in August, 2005; \n",
    "    - PAY_AMT3 = amount paid in July, 2005; \n",
    "    - PAY_AMT4 = amount paid in June, 2005; \n",
    "     - PAY_AMT5 = amount paid in May, 2005;\n",
    "    - PAY_AMT6 = amount paid in April, 2005. \n",
    "The target variable is default payment (yes = 1, and no = 0).\n",
    "\n",
    "\n",
    "# Plan\n",
    "I plan to carry out the following steps.\n",
    "1. Exploratory Data Analysis\n",
    "2. Data preprocessing and data cleaning\n",
    "3. Feature engineering\n",
    "4. Model training\n",
    "  - KNN\n",
    "  - Naive Bayes\n",
    "  - Random Forest\n",
    "  - Gradient Boosting Model\n",
    "  - Neural Network\n",
    "  - Support Vector Machine\n",
    "  - Linear Discriminant Analysis + Support Vector Machine\n",
    "  - Clustering\n",
    "  - Outlier Detection"
   ]
  },
  {
   "cell_type": "markdown",
   "metadata": {},
   "source": [
    "# Data Wrangling"
   ]
  },
  {
   "cell_type": "code",
   "execution_count": 1,
   "metadata": {},
   "outputs": [],
   "source": [
    "import pandas as pd\n",
    "import numpy as np\n",
    "pd.options.display.max_columns = 100\n",
    "pd.options.display.max_rows = 1000"
   ]
  },
  {
   "cell_type": "code",
   "execution_count": 2,
   "metadata": {},
   "outputs": [],
   "source": [
    "df = pd.read_csv(\"Copyofdefaultofcreditcardclients.csv\", header=1, index_col=0)"
   ]
  },
  {
   "cell_type": "code",
   "execution_count": 3,
   "metadata": {},
   "outputs": [
    {
     "data": {
      "text/plain": [
       "(30000, 24)"
      ]
     },
     "execution_count": 3,
     "metadata": {},
     "output_type": "execute_result"
    }
   ],
   "source": [
    "df.shape"
   ]
  },
  {
   "cell_type": "markdown",
   "metadata": {},
   "source": [
    "- There are 30000 records and 24 different variables. I visually inspect the first five and last five rows of the data."
   ]
  },
  {
   "cell_type": "code",
   "execution_count": 4,
   "metadata": {},
   "outputs": [
    {
     "data": {
      "text/html": [
       "<div>\n",
       "<style scoped>\n",
       "    .dataframe tbody tr th:only-of-type {\n",
       "        vertical-align: middle;\n",
       "    }\n",
       "\n",
       "    .dataframe tbody tr th {\n",
       "        vertical-align: top;\n",
       "    }\n",
       "\n",
       "    .dataframe thead th {\n",
       "        text-align: right;\n",
       "    }\n",
       "</style>\n",
       "<table border=\"1\" class=\"dataframe\">\n",
       "  <thead>\n",
       "    <tr style=\"text-align: right;\">\n",
       "      <th></th>\n",
       "      <th>LIMIT_BAL</th>\n",
       "      <th>SEX</th>\n",
       "      <th>EDUCATION</th>\n",
       "      <th>MARRIAGE</th>\n",
       "      <th>AGE</th>\n",
       "      <th>PAY_0</th>\n",
       "      <th>PAY_2</th>\n",
       "      <th>PAY_3</th>\n",
       "      <th>PAY_4</th>\n",
       "      <th>PAY_5</th>\n",
       "      <th>PAY_6</th>\n",
       "      <th>BILL_AMT1</th>\n",
       "      <th>BILL_AMT2</th>\n",
       "      <th>BILL_AMT3</th>\n",
       "      <th>BILL_AMT4</th>\n",
       "      <th>BILL_AMT5</th>\n",
       "      <th>BILL_AMT6</th>\n",
       "      <th>PAY_AMT1</th>\n",
       "      <th>PAY_AMT2</th>\n",
       "      <th>PAY_AMT3</th>\n",
       "      <th>PAY_AMT4</th>\n",
       "      <th>PAY_AMT5</th>\n",
       "      <th>PAY_AMT6</th>\n",
       "      <th>default payment next month</th>\n",
       "    </tr>\n",
       "    <tr>\n",
       "      <th>ID</th>\n",
       "      <th></th>\n",
       "      <th></th>\n",
       "      <th></th>\n",
       "      <th></th>\n",
       "      <th></th>\n",
       "      <th></th>\n",
       "      <th></th>\n",
       "      <th></th>\n",
       "      <th></th>\n",
       "      <th></th>\n",
       "      <th></th>\n",
       "      <th></th>\n",
       "      <th></th>\n",
       "      <th></th>\n",
       "      <th></th>\n",
       "      <th></th>\n",
       "      <th></th>\n",
       "      <th></th>\n",
       "      <th></th>\n",
       "      <th></th>\n",
       "      <th></th>\n",
       "      <th></th>\n",
       "      <th></th>\n",
       "      <th></th>\n",
       "    </tr>\n",
       "  </thead>\n",
       "  <tbody>\n",
       "    <tr>\n",
       "      <th>1</th>\n",
       "      <td>20000</td>\n",
       "      <td>2</td>\n",
       "      <td>2</td>\n",
       "      <td>1</td>\n",
       "      <td>24</td>\n",
       "      <td>2</td>\n",
       "      <td>2</td>\n",
       "      <td>-1</td>\n",
       "      <td>-1</td>\n",
       "      <td>-2</td>\n",
       "      <td>-2</td>\n",
       "      <td>3913</td>\n",
       "      <td>3102</td>\n",
       "      <td>689</td>\n",
       "      <td>0</td>\n",
       "      <td>0</td>\n",
       "      <td>0</td>\n",
       "      <td>0</td>\n",
       "      <td>689</td>\n",
       "      <td>0</td>\n",
       "      <td>0</td>\n",
       "      <td>0</td>\n",
       "      <td>0</td>\n",
       "      <td>1</td>\n",
       "    </tr>\n",
       "    <tr>\n",
       "      <th>2</th>\n",
       "      <td>120000</td>\n",
       "      <td>2</td>\n",
       "      <td>2</td>\n",
       "      <td>2</td>\n",
       "      <td>26</td>\n",
       "      <td>-1</td>\n",
       "      <td>2</td>\n",
       "      <td>0</td>\n",
       "      <td>0</td>\n",
       "      <td>0</td>\n",
       "      <td>2</td>\n",
       "      <td>2682</td>\n",
       "      <td>1725</td>\n",
       "      <td>2682</td>\n",
       "      <td>3272</td>\n",
       "      <td>3455</td>\n",
       "      <td>3261</td>\n",
       "      <td>0</td>\n",
       "      <td>1000</td>\n",
       "      <td>1000</td>\n",
       "      <td>1000</td>\n",
       "      <td>0</td>\n",
       "      <td>2000</td>\n",
       "      <td>1</td>\n",
       "    </tr>\n",
       "    <tr>\n",
       "      <th>3</th>\n",
       "      <td>90000</td>\n",
       "      <td>2</td>\n",
       "      <td>2</td>\n",
       "      <td>2</td>\n",
       "      <td>34</td>\n",
       "      <td>0</td>\n",
       "      <td>0</td>\n",
       "      <td>0</td>\n",
       "      <td>0</td>\n",
       "      <td>0</td>\n",
       "      <td>0</td>\n",
       "      <td>29239</td>\n",
       "      <td>14027</td>\n",
       "      <td>13559</td>\n",
       "      <td>14331</td>\n",
       "      <td>14948</td>\n",
       "      <td>15549</td>\n",
       "      <td>1518</td>\n",
       "      <td>1500</td>\n",
       "      <td>1000</td>\n",
       "      <td>1000</td>\n",
       "      <td>1000</td>\n",
       "      <td>5000</td>\n",
       "      <td>0</td>\n",
       "    </tr>\n",
       "    <tr>\n",
       "      <th>4</th>\n",
       "      <td>50000</td>\n",
       "      <td>2</td>\n",
       "      <td>2</td>\n",
       "      <td>1</td>\n",
       "      <td>37</td>\n",
       "      <td>0</td>\n",
       "      <td>0</td>\n",
       "      <td>0</td>\n",
       "      <td>0</td>\n",
       "      <td>0</td>\n",
       "      <td>0</td>\n",
       "      <td>46990</td>\n",
       "      <td>48233</td>\n",
       "      <td>49291</td>\n",
       "      <td>28314</td>\n",
       "      <td>28959</td>\n",
       "      <td>29547</td>\n",
       "      <td>2000</td>\n",
       "      <td>2019</td>\n",
       "      <td>1200</td>\n",
       "      <td>1100</td>\n",
       "      <td>1069</td>\n",
       "      <td>1000</td>\n",
       "      <td>0</td>\n",
       "    </tr>\n",
       "    <tr>\n",
       "      <th>5</th>\n",
       "      <td>50000</td>\n",
       "      <td>1</td>\n",
       "      <td>2</td>\n",
       "      <td>1</td>\n",
       "      <td>57</td>\n",
       "      <td>-1</td>\n",
       "      <td>0</td>\n",
       "      <td>-1</td>\n",
       "      <td>0</td>\n",
       "      <td>0</td>\n",
       "      <td>0</td>\n",
       "      <td>8617</td>\n",
       "      <td>5670</td>\n",
       "      <td>35835</td>\n",
       "      <td>20940</td>\n",
       "      <td>19146</td>\n",
       "      <td>19131</td>\n",
       "      <td>2000</td>\n",
       "      <td>36681</td>\n",
       "      <td>10000</td>\n",
       "      <td>9000</td>\n",
       "      <td>689</td>\n",
       "      <td>679</td>\n",
       "      <td>0</td>\n",
       "    </tr>\n",
       "  </tbody>\n",
       "</table>\n",
       "</div>"
      ],
      "text/plain": [
       "    LIMIT_BAL  SEX  EDUCATION  MARRIAGE  AGE  PAY_0  PAY_2  PAY_3  PAY_4  \\\n",
       "ID                                                                         \n",
       "1       20000    2          2         1   24      2      2     -1     -1   \n",
       "2      120000    2          2         2   26     -1      2      0      0   \n",
       "3       90000    2          2         2   34      0      0      0      0   \n",
       "4       50000    2          2         1   37      0      0      0      0   \n",
       "5       50000    1          2         1   57     -1      0     -1      0   \n",
       "\n",
       "    PAY_5  PAY_6  BILL_AMT1  BILL_AMT2  BILL_AMT3  BILL_AMT4  BILL_AMT5  \\\n",
       "ID                                                                        \n",
       "1      -2     -2       3913       3102        689          0          0   \n",
       "2       0      2       2682       1725       2682       3272       3455   \n",
       "3       0      0      29239      14027      13559      14331      14948   \n",
       "4       0      0      46990      48233      49291      28314      28959   \n",
       "5       0      0       8617       5670      35835      20940      19146   \n",
       "\n",
       "    BILL_AMT6  PAY_AMT1  PAY_AMT2  PAY_AMT3  PAY_AMT4  PAY_AMT5  PAY_AMT6  \\\n",
       "ID                                                                          \n",
       "1           0         0       689         0         0         0         0   \n",
       "2        3261         0      1000      1000      1000         0      2000   \n",
       "3       15549      1518      1500      1000      1000      1000      5000   \n",
       "4       29547      2000      2019      1200      1100      1069      1000   \n",
       "5       19131      2000     36681     10000      9000       689       679   \n",
       "\n",
       "    default payment next month  \n",
       "ID                              \n",
       "1                            1  \n",
       "2                            1  \n",
       "3                            0  \n",
       "4                            0  \n",
       "5                            0  "
      ]
     },
     "execution_count": 4,
     "metadata": {},
     "output_type": "execute_result"
    }
   ],
   "source": [
    "df.head()"
   ]
  },
  {
   "cell_type": "code",
   "execution_count": 5,
   "metadata": {},
   "outputs": [],
   "source": [
    "# Fix column names inconsistency\n",
    "df.rename(columns = {'default payment next month': 'default',\n",
    "                    'PAY_0': 'PAY_1'}, inplace=True)"
   ]
  },
  {
   "cell_type": "markdown",
   "metadata": {},
   "source": [
    "## Categorical Variables\n",
    "I count the frequency for each categorical variables. I find a few strange things:\n",
    "- for Education, there are undocumented category (0, 5, 6). Future investigation could be done if I have access to people who created this data. Since I do not have that access, for now, I will group 0, 5, 6 to others (which is 4).\n",
    "- For Marital status, the class 0 is not documented. For now, I group 0 to others (which is 3).\n"
   ]
  },
  {
   "cell_type": "code",
   "execution_count": 6,
   "metadata": {
    "scrolled": true
   },
   "outputs": [
    {
     "name": "stdout",
     "output_type": "stream",
     "text": [
      "2    14030\n",
      "1    10585\n",
      "3     4917\n",
      "4      468\n",
      "Name: EDUCATION, dtype: int64\n"
     ]
    },
    {
     "data": {
      "text/plain": [
       "2    15964\n",
       "1    13659\n",
       "3      377\n",
       "Name: MARRIAGE, dtype: int64"
      ]
     },
     "execution_count": 6,
     "metadata": {},
     "output_type": "execute_result"
    }
   ],
   "source": [
    "df['EDUCATION'] = [ 4 if i in [0, 5, 6] else i for i in df.EDUCATION]\n",
    "print(df.EDUCATION.value_counts())\n",
    "df.loc[df.MARRIAGE == 0,'MARRIAGE'] = 3\n",
    "df.MARRIAGE.value_counts()"
   ]
  },
  {
   "cell_type": "markdown",
   "metadata": {},
   "source": [
    "## Missing Value\n",
    "I also check if there is any missing values. I did not find any missing values in the current dataset. However, if I have missing values, I would need to investigate the nature of the missing values. \n",
    "- If the records with missing values are only a small fraction of the dataset, we can remove all the cases with missing values.\n",
    "- If we are dealing with a small data set, we need to see which imputation methods we could use for the data set. If the missing value is numerical and missing at random, we can use mean if fitting with a linear regression, since mean is unbiased estimator. If we want a simple measure that is robust to outliers, we could use median. \n",
    "- Another good choice for imputation is to use models to predict the missing values. A good example is MICE (multivariate Imputation via Chained Equations). In Python, FancyImpute has a function IterativeImputer, which is similar to MICE but it returns a single imputation. We can also use interpolation with linear regression, random forest, and so on.\n",
    "- If the missing value is categorical, one could impute value ”missing” to make missing values as a category. We can also impute with the most frequent class."
   ]
  },
  {
   "cell_type": "code",
   "execution_count": 7,
   "metadata": {},
   "outputs": [
    {
     "data": {
      "text/plain": [
       "LIMIT_BAL    0\n",
       "SEX          0\n",
       "EDUCATION    0\n",
       "MARRIAGE     0\n",
       "AGE          0\n",
       "PAY_1        0\n",
       "PAY_2        0\n",
       "PAY_3        0\n",
       "PAY_4        0\n",
       "PAY_5        0\n",
       "PAY_6        0\n",
       "BILL_AMT1    0\n",
       "BILL_AMT2    0\n",
       "BILL_AMT3    0\n",
       "BILL_AMT4    0\n",
       "BILL_AMT5    0\n",
       "BILL_AMT6    0\n",
       "PAY_AMT1     0\n",
       "PAY_AMT2     0\n",
       "PAY_AMT3     0\n",
       "PAY_AMT4     0\n",
       "PAY_AMT5     0\n",
       "PAY_AMT6     0\n",
       "default      0\n",
       "dtype: int64"
      ]
     },
     "execution_count": 7,
     "metadata": {},
     "output_type": "execute_result"
    }
   ],
   "source": [
    "# Find missing values: no missing values\n",
    "df.isnull().sum()"
   ]
  },
  {
   "cell_type": "markdown",
   "metadata": {},
   "source": [
    "# Outliers\n",
    "I applied median-absolute-deviation (MAD) based outlier detection for all numerical features. I used a threshold of 3.5. A data point with Z score whose absolute value larger than 3.5 is labeled as an outlier. I also used boxplot to check for outliers.\n",
    "\n",
    "However, outliers do not mean errors. It could be a valid point as well. By checking the data for balance limit records, they look valid points."
   ]
  },
  {
   "cell_type": "code",
   "execution_count": 8,
   "metadata": {},
   "outputs": [],
   "source": [
    "def mad_based_outlier(points, thresh=3.5): \n",
    "    if len(points.shape) == 1: \n",
    "        points = points[:,None] \n",
    "    median = np.nanmedian(points, axis=0)\n",
    "    diff = np.sum((points - median)**2, axis=-1) \n",
    "    diff = np.sqrt(diff)\n",
    "    med_abs_deviation = np.nanmedian(diff) \n",
    "    modified_z_score = 0.6745 * diff / med_abs_deviation\n",
    "    return modified_z_score > thresh "
   ]
  },
  {
   "cell_type": "code",
   "execution_count": 9,
   "metadata": {},
   "outputs": [],
   "source": [
    "from collections import defaultdict\n",
    "dct = defaultdict(list)\n",
    "nums = ['LIMIT_BAL','BILL_AMT1', 'BILL_AMT2',\n",
    "       'BILL_AMT3', 'BILL_AMT4', 'BILL_AMT5', 'BILL_AMT6', 'PAY_AMT1',\n",
    "       'PAY_AMT2', 'PAY_AMT3', 'PAY_AMT4', 'PAY_AMT5', 'PAY_AMT6'] \n",
    "allnum = df[nums]\n",
    "for num in nums:\n",
    "    temp = df[num]\n",
    "    dct[num] = temp[mad_based_outlier(temp)].index.tolist()"
   ]
  },
  {
   "cell_type": "code",
   "execution_count": 10,
   "metadata": {},
   "outputs": [
    {
     "name": "stdout",
     "output_type": "stream",
     "text": [
      "There are 10791 records with extreme values.\n"
     ]
    }
   ],
   "source": [
    "# df.iloc[dct['LIMIT_BAL']].shape \n",
    "import itertools\n",
    "allout = []\n",
    "for num in nums:\n",
    "    allout.append(dct[num])\n",
    "merged = list(itertools.chain(*allout))\n",
    "print('There are ' + str(len(set(merged))) + ' records with extreme values.')"
   ]
  },
  {
   "cell_type": "code",
   "execution_count": 11,
   "metadata": {},
   "outputs": [
    {
     "data": {
      "text/plain": [
       "(19209, 24)"
      ]
     },
     "execution_count": 11,
     "metadata": {},
     "output_type": "execute_result"
    }
   ],
   "source": [
    "# DataFrame with no outliers\n",
    "pd_noout = df.drop(merged, axis=0)\n",
    "pd_noout.shape"
   ]
  },
  {
   "cell_type": "markdown",
   "metadata": {},
   "source": [
    "I am going to make Age categorical."
   ]
  },
  {
   "cell_type": "code",
   "execution_count": 12,
   "metadata": {},
   "outputs": [],
   "source": [
    "# df.AGE.describe()\n",
    "bins = np.arange(30, 80, 10)\n",
    "df['agecat'] = np.digitize(df.AGE, bins)\n",
    "# plt.hist(df.agecat, bins=10);\n",
    "# # df[['AGE', 'agecat']].head() \n",
    "# df.agecat.value_counts()"
   ]
  },
  {
   "cell_type": "code",
   "execution_count": 13,
   "metadata": {},
   "outputs": [],
   "source": [
    "cats = ['SEX', 'EDUCATION', 'MARRIAGE', 'agecat',\n",
    "        'PAY_1', 'PAY_2', 'PAY_3', 'PAY_4', 'PAY_5', 'PAY_6']\n",
    "for cat in cats:\n",
    "    df[cat] = df[cat].astype('category')\n",
    "# df.info()"
   ]
  },
  {
   "cell_type": "code",
   "execution_count": 14,
   "metadata": {},
   "outputs": [
    {
     "data": {
      "text/plain": [
       "1    11238\n",
       "0     9618\n",
       "2     6464\n",
       "3     2341\n",
       "4      314\n",
       "5       25\n",
       "Name: agecat, dtype: int64"
      ]
     },
     "execution_count": 14,
     "metadata": {},
     "output_type": "execute_result"
    }
   ],
   "source": [
    "bins = np.arange(30, 80, 10)\n",
    "df['agecat'] = np.digitize(df.AGE, bins)\n",
    "df.agecat.value_counts()"
   ]
  },
  {
   "cell_type": "markdown",
   "metadata": {},
   "source": [
    "It seems that we can group 60-70 with 70-80, considering the small number of records in each group and similar default rate."
   ]
  },
  {
   "cell_type": "code",
   "execution_count": 15,
   "metadata": {
    "scrolled": true
   },
   "outputs": [],
   "source": [
    "bins = np.arange(30, 70, 10)\n",
    "df['agecat'] = np.digitize(df.AGE, bins)\n"
   ]
  },
  {
   "cell_type": "markdown",
   "metadata": {},
   "source": [
    "Based on the age group above, it seems like that it might make sense to divide the age into three groups, 20-30, 30 -40, and $>40$."
   ]
  },
  {
   "cell_type": "code",
   "execution_count": 16,
   "metadata": {
    "scrolled": true
   },
   "outputs": [],
   "source": [
    "df['age2'] = [0 if i<=30 else (1 if i <=40 else 2) for i in df.AGE]\n",
    "# PerStackBar_label_two('age2',df=df, m=['20-30', '30-40', '>40'],figsize=(10,8))"
   ]
  },
  {
   "cell_type": "markdown",
   "metadata": {},
   "source": [
    "# Results Part 1:\n",
    "The graphs above reveal several things:\n",
    "- The default rate for male (24.2%) is significantly higher (p-value < 0.01) than female (20.8%). To be specific, the default rate for male is higher than the overall rate (22.1%), while the default rate for female is smaller than the overall rate. \n",
    "- The default rate for people whose highest eduacation is university and high school is higher than the overall rate, while the default rate for graduate school are lower than the overall rate.\n",
    "- The default rate for married and other people is higher than the overall rate, while the default rate for single people is lower than the overall rate.\n",
    "- The default rate for the age group 30-40 is the lowest, and the default rate for 60 and above is the highest. \n",
    "\n",
    "All four categorical variables have significant impact on the default rate.\n",
    "\n",
    "The overall message is \n",
    "1. Male is more likely to default than females;\n",
    "2. The highest education is university or lower is more likely to default;\n",
    "3. Married people is more likely to default than single people;\n",
    "4. People younger than 30 or older than 40 is more likely to default, especially for people older than 40."
   ]
  },
  {
   "cell_type": "code",
   "execution_count": 17,
   "metadata": {},
   "outputs": [
    {
     "data": {
      "text/html": [
       "<div>\n",
       "<style scoped>\n",
       "    .dataframe tbody tr th:only-of-type {\n",
       "        vertical-align: middle;\n",
       "    }\n",
       "\n",
       "    .dataframe tbody tr th {\n",
       "        vertical-align: top;\n",
       "    }\n",
       "\n",
       "    .dataframe thead th {\n",
       "        text-align: right;\n",
       "    }\n",
       "</style>\n",
       "<table border=\"1\" class=\"dataframe\">\n",
       "  <thead>\n",
       "    <tr style=\"text-align: right;\">\n",
       "      <th></th>\n",
       "      <th>PAY_1</th>\n",
       "      <th>prop1</th>\n",
       "      <th>PAY_AMT1</th>\n",
       "      <th>BILL_AMT1</th>\n",
       "      <th>LIMIT_BAL</th>\n",
       "    </tr>\n",
       "    <tr>\n",
       "      <th>ID</th>\n",
       "      <th></th>\n",
       "      <th></th>\n",
       "      <th></th>\n",
       "      <th></th>\n",
       "      <th></th>\n",
       "    </tr>\n",
       "  </thead>\n",
       "  <tbody>\n",
       "    <tr>\n",
       "      <th>1</th>\n",
       "      <td>2</td>\n",
       "      <td>0.000000</td>\n",
       "      <td>0</td>\n",
       "      <td>3913</td>\n",
       "      <td>20000</td>\n",
       "    </tr>\n",
       "    <tr>\n",
       "      <th>2</th>\n",
       "      <td>-1</td>\n",
       "      <td>0.000000</td>\n",
       "      <td>0</td>\n",
       "      <td>2682</td>\n",
       "      <td>120000</td>\n",
       "    </tr>\n",
       "    <tr>\n",
       "      <th>3</th>\n",
       "      <td>0</td>\n",
       "      <td>0.051917</td>\n",
       "      <td>1518</td>\n",
       "      <td>29239</td>\n",
       "      <td>90000</td>\n",
       "    </tr>\n",
       "    <tr>\n",
       "      <th>4</th>\n",
       "      <td>0</td>\n",
       "      <td>0.042562</td>\n",
       "      <td>2000</td>\n",
       "      <td>46990</td>\n",
       "      <td>50000</td>\n",
       "    </tr>\n",
       "    <tr>\n",
       "      <th>5</th>\n",
       "      <td>-1</td>\n",
       "      <td>0.232099</td>\n",
       "      <td>2000</td>\n",
       "      <td>8617</td>\n",
       "      <td>50000</td>\n",
       "    </tr>\n",
       "  </tbody>\n",
       "</table>\n",
       "</div>"
      ],
      "text/plain": [
       "   PAY_1     prop1  PAY_AMT1  BILL_AMT1  LIMIT_BAL\n",
       "ID                                                \n",
       "1      2  0.000000         0       3913      20000\n",
       "2     -1  0.000000         0       2682     120000\n",
       "3      0  0.051917      1518      29239      90000\n",
       "4      0  0.042562      2000      46990      50000\n",
       "5     -1  0.232099      2000       8617      50000"
      ]
     },
     "execution_count": 17,
     "metadata": {},
     "output_type": "execute_result"
    }
   ],
   "source": [
    "df['prop1'] = df.PAY_AMT1/df.BILL_AMT1\n",
    "\n",
    "check = df.loc[df.BILL_AMT1!=0, ['PAY_1', 'prop1','PAY_AMT1', 'BILL_AMT1', 'LIMIT_BAL']]\n",
    "check.head()\n",
    "# print(check[check.PAY_1==0].head())\n",
    "# print(check[check.PAY_1==-1].head(20))\n",
    "# check[check.prop1==np.inf].head()"
   ]
  },
  {
   "cell_type": "markdown",
   "metadata": {},
   "source": [
    "Strange things:\n",
    "\n",
    "The Pay_1 to Pay_6 are the repayment status in September, 2015 to April, 2015. The positive number is the number of months a payment is delayed. -1 means pay duly. However, It does not mention -2 and 0 in the description. I am trying to find out the answer in the data first. \n",
    "\n",
    "I looked at PAY_AMT1, BILL_AMT1, and PAY_1, which are the payment amount, bill amount, and payment status for September, 2015. I found several strange thing with this data. \n",
    "- For example, for ID 2, the bill amount is 2682 and the payment amount is 0, but the case is still labeled as -1, which means pay duly. The explanation I could come up with is that sometime credit card company has some promotion for certain amount of time. Even though this person has a positive bill amount, the minimum payment is 0? Otherwise, I could not make sense of this.\n",
    "- I cannot tell the difference between payment status 0, -1, -2. If -1 means pay duly, what about 0 and -2? I checked the proportion of the payment amount and the bill amount, I cannot tell if there is a threshold they use here. \n",
    "- Even though the bill amount is negative amount, people still pay the credit card. Some are labeled as -1, some are labled as -2 and some are labeled as 0. This does not make any sense.\n",
    "\n",
    "This occurs to me that it may be possible that PAY_AMT1 is for BILL_AMT2, rather than BILL_AMT1. This means that the amount one pays in Sepetember, 2015 is for the bill issued in August, 2015."
   ]
  },
  {
   "cell_type": "markdown",
   "metadata": {},
   "source": [
    "It seems like the amount paid in September, 2015 is for the bill in August, 2015. But I still could not make sense of the repayment status. \n",
    "\n",
    "I am curious to see how the repayment status changes over time."
   ]
  },
  {
   "cell_type": "code",
   "execution_count": 18,
   "metadata": {},
   "outputs": [],
   "source": [
    "# make sure the payment status is -1 if the balance for that month is negative\n",
    "df['default'] = [i if j>0 else 0 for i, j in zip(df.default, df.BILL_AMT1) ]\n",
    "df['PAY_1'] = [i if j>0 else -1 for i, j in zip(df.PAY_1, df.BILL_AMT2) ]\n",
    "df['PAY_2'] = [i if j>0 else -1 for i, j in zip(df.PAY_2, df.BILL_AMT3) ]  \n",
    "df['PAY_3'] = [i if j>0 else -1 for i, j in zip(df.PAY_3, df.BILL_AMT4) ]  \n",
    "df['PAY_4'] = [i if j>0 else -1 for i, j in zip(df.PAY_4, df.BILL_AMT5) ]  \n",
    "df['PAY_5'] = [i if j>0 else -1 for i, j in zip(df.PAY_5, df.BILL_AMT6) ]\n",
    "df['PAY_5'] = [i if j>0 else -1 for i, j in zip(df.PAY_5, df.BILL_AMT6) ]  "
   ]
  },
  {
   "cell_type": "markdown",
   "metadata": {},
   "source": [
    "# Continuous Variable\n",
    "Now I want to see how these continuous variables are related to each other and how they impact whether a person defaults in the next month."
   ]
  },
  {
   "cell_type": "code",
   "execution_count": 19,
   "metadata": {},
   "outputs": [],
   "source": [
    "import warnings\n",
    "warnings.filterwarnings(\"ignore\")\n",
    "import seaborn as sns"
   ]
  },
  {
   "cell_type": "code",
   "execution_count": 20,
   "metadata": {
    "scrolled": false
   },
   "outputs": [],
   "source": [
    "cons = ['LIMIT_BAL', 'BILL_AMT1', 'BILL_AMT2',\n",
    "       'BILL_AMT3', 'BILL_AMT4', 'BILL_AMT5', 'BILL_AMT6', 'PAY_AMT1',\n",
    "       'PAY_AMT2', 'PAY_AMT3', 'PAY_AMT4', 'PAY_AMT5', 'PAY_AMT6','default']\n",
    "# cons = ['LIMIT_BAL', 'BILL_AMT1', 'PAY_1',\n",
    "#        'PAY_2', 'PAY_3', 'PAY_4', 'PAY_5', 'PAY_6','default']\n",
    "# sns.pairplot(df[cons], hue='default');"
   ]
  },
  {
   "cell_type": "code",
   "execution_count": 21,
   "metadata": {},
   "outputs": [],
   "source": [
    "df['balprop1'] = df.BILL_AMT1/df.LIMIT_BAL\n",
    "# df.groupby('default').balprop1.plot(kind='kde') \n",
    "# plt.legend(loc='upper left', bbox_to_anchor=(1,1), ncol=['good','default'])\n",
    "# plt.xlabel('x1')"
   ]
  },
  {
   "cell_type": "code",
   "execution_count": 22,
   "metadata": {},
   "outputs": [
    {
     "data": {
      "text/html": [
       "<div>\n",
       "<style scoped>\n",
       "    .dataframe tbody tr th:only-of-type {\n",
       "        vertical-align: middle;\n",
       "    }\n",
       "\n",
       "    .dataframe tbody tr th {\n",
       "        vertical-align: top;\n",
       "    }\n",
       "\n",
       "    .dataframe thead th {\n",
       "        text-align: right;\n",
       "    }\n",
       "</style>\n",
       "<table border=\"1\" class=\"dataframe\">\n",
       "  <thead>\n",
       "    <tr style=\"text-align: right;\">\n",
       "      <th></th>\n",
       "      <th>LIMIT_BAL</th>\n",
       "      <th>default</th>\n",
       "      <th>BILL_AMT1</th>\n",
       "      <th>PAY_1</th>\n",
       "      <th>PAY_AMT1</th>\n",
       "      <th>BILL_AMT2</th>\n",
       "      <th>PAY_2</th>\n",
       "      <th>PAY_AMT2</th>\n",
       "      <th>BILL_AMT3</th>\n",
       "      <th>balprop1</th>\n",
       "    </tr>\n",
       "    <tr>\n",
       "      <th>ID</th>\n",
       "      <th></th>\n",
       "      <th></th>\n",
       "      <th></th>\n",
       "      <th></th>\n",
       "      <th></th>\n",
       "      <th></th>\n",
       "      <th></th>\n",
       "      <th></th>\n",
       "      <th></th>\n",
       "      <th></th>\n",
       "    </tr>\n",
       "  </thead>\n",
       "  <tbody>\n",
       "    <tr>\n",
       "      <th>6</th>\n",
       "      <td>50000</td>\n",
       "      <td>0</td>\n",
       "      <td>64400</td>\n",
       "      <td>0</td>\n",
       "      <td>2500</td>\n",
       "      <td>57069</td>\n",
       "      <td>0</td>\n",
       "      <td>1815</td>\n",
       "      <td>57608</td>\n",
       "      <td>1.288000</td>\n",
       "    </tr>\n",
       "    <tr>\n",
       "      <th>16</th>\n",
       "      <td>50000</td>\n",
       "      <td>0</td>\n",
       "      <td>50614</td>\n",
       "      <td>1</td>\n",
       "      <td>0</td>\n",
       "      <td>29173</td>\n",
       "      <td>2</td>\n",
       "      <td>1500</td>\n",
       "      <td>28116</td>\n",
       "      <td>1.012280</td>\n",
       "    </tr>\n",
       "    <tr>\n",
       "      <th>60</th>\n",
       "      <td>400000</td>\n",
       "      <td>0</td>\n",
       "      <td>400134</td>\n",
       "      <td>0</td>\n",
       "      <td>17000</td>\n",
       "      <td>398857</td>\n",
       "      <td>0</td>\n",
       "      <td>15029</td>\n",
       "      <td>404205</td>\n",
       "      <td>1.000335</td>\n",
       "    </tr>\n",
       "    <tr>\n",
       "      <th>62</th>\n",
       "      <td>70000</td>\n",
       "      <td>0</td>\n",
       "      <td>70800</td>\n",
       "      <td>0</td>\n",
       "      <td>4025</td>\n",
       "      <td>72060</td>\n",
       "      <td>0</td>\n",
       "      <td>2095</td>\n",
       "      <td>69938</td>\n",
       "      <td>1.011429</td>\n",
       "    </tr>\n",
       "    <tr>\n",
       "      <th>109</th>\n",
       "      <td>130000</td>\n",
       "      <td>0</td>\n",
       "      <td>171438</td>\n",
       "      <td>0</td>\n",
       "      <td>10908</td>\n",
       "      <td>178382</td>\n",
       "      <td>0</td>\n",
       "      <td>0</td>\n",
       "      <td>39940</td>\n",
       "      <td>1.318754</td>\n",
       "    </tr>\n",
       "    <tr>\n",
       "      <th>130</th>\n",
       "      <td>60000</td>\n",
       "      <td>0</td>\n",
       "      <td>60521</td>\n",
       "      <td>3</td>\n",
       "      <td>2504</td>\n",
       "      <td>61450</td>\n",
       "      <td>2</td>\n",
       "      <td>7</td>\n",
       "      <td>57244</td>\n",
       "      <td>1.008683</td>\n",
       "    </tr>\n",
       "    <tr>\n",
       "      <th>140</th>\n",
       "      <td>50000</td>\n",
       "      <td>0</td>\n",
       "      <td>50801</td>\n",
       "      <td>0</td>\n",
       "      <td>2360</td>\n",
       "      <td>50143</td>\n",
       "      <td>0</td>\n",
       "      <td>1700</td>\n",
       "      <td>49586</td>\n",
       "      <td>1.016020</td>\n",
       "    </tr>\n",
       "    <tr>\n",
       "      <th>168</th>\n",
       "      <td>100000</td>\n",
       "      <td>0</td>\n",
       "      <td>102349</td>\n",
       "      <td>-1</td>\n",
       "      <td>3166</td>\n",
       "      <td>96847</td>\n",
       "      <td>2</td>\n",
       "      <td>0</td>\n",
       "      <td>58824</td>\n",
       "      <td>1.023490</td>\n",
       "    </tr>\n",
       "    <tr>\n",
       "      <th>190</th>\n",
       "      <td>20000</td>\n",
       "      <td>0</td>\n",
       "      <td>21703</td>\n",
       "      <td>1</td>\n",
       "      <td>0</td>\n",
       "      <td>21087</td>\n",
       "      <td>5</td>\n",
       "      <td>1000</td>\n",
       "      <td>21461</td>\n",
       "      <td>1.085150</td>\n",
       "    </tr>\n",
       "    <tr>\n",
       "      <th>209</th>\n",
       "      <td>80000</td>\n",
       "      <td>1</td>\n",
       "      <td>81625</td>\n",
       "      <td>0</td>\n",
       "      <td>3200</td>\n",
       "      <td>81554</td>\n",
       "      <td>0</td>\n",
       "      <td>3000</td>\n",
       "      <td>79599</td>\n",
       "      <td>1.020312</td>\n",
       "    </tr>\n",
       "  </tbody>\n",
       "</table>\n",
       "</div>"
      ],
      "text/plain": [
       "     LIMIT_BAL  default  BILL_AMT1  PAY_1  PAY_AMT1  BILL_AMT2  PAY_2  \\\n",
       "ID                                                                      \n",
       "6        50000        0      64400      0      2500      57069      0   \n",
       "16       50000        0      50614      1         0      29173      2   \n",
       "60      400000        0     400134      0     17000     398857      0   \n",
       "62       70000        0      70800      0      4025      72060      0   \n",
       "109     130000        0     171438      0     10908     178382      0   \n",
       "130      60000        0      60521      3      2504      61450      2   \n",
       "140      50000        0      50801      0      2360      50143      0   \n",
       "168     100000        0     102349     -1      3166      96847      2   \n",
       "190      20000        0      21703      1         0      21087      5   \n",
       "209      80000        1      81625      0      3200      81554      0   \n",
       "\n",
       "     PAY_AMT2  BILL_AMT3  balprop1  \n",
       "ID                                  \n",
       "6        1815      57608  1.288000  \n",
       "16       1500      28116  1.012280  \n",
       "60      15029     404205  1.000335  \n",
       "62       2095      69938  1.011429  \n",
       "109         0      39940  1.318754  \n",
       "130         7      57244  1.008683  \n",
       "140      1700      49586  1.016020  \n",
       "168         0      58824  1.023490  \n",
       "190      1000      21461  1.085150  \n",
       "209      3000      79599  1.020312  "
      ]
     },
     "execution_count": 22,
     "metadata": {},
     "output_type": "execute_result"
    }
   ],
   "source": [
    "df.loc[df.balprop1>1,['LIMIT_BAL', 'default', 'BILL_AMT1', 'PAY_1','PAY_AMT1','BILL_AMT2',\n",
    "                      'PAY_2', 'PAY_AMT2', 'BILL_AMT3', 'balprop1']].head(10)"
   ]
  },
  {
   "cell_type": "markdown",
   "metadata": {},
   "source": [
    "The boxplot and table above show that there are people who use more than their credit card balance. This makes me think that maybe the person who created this data has a standard for each person about determining whether they paid their due or not. Maybe someone just needs to pay the minimum balance to be considered paid duly. Maybe someone needs to pay the whole balance to be considered paid duly. Maybe someone does not need to pay anything to be considered paid duly (even thought this is so STRANGE).\n",
    "\n",
    "I am going to do two things now. \n",
    "- One is to label whether a person use more than their balance in last month.\n",
    "- I am going to create bins for the proportion of use the credit card balance on September 2015. I want to check if this proportion is related to the next month default."
   ]
  },
  {
   "cell_type": "code",
   "execution_count": 23,
   "metadata": {},
   "outputs": [
    {
     "data": {
      "text/plain": [
       "1     10649\n",
       "10     3927\n",
       "11     2123\n",
       "2      2016\n",
       "9      1930\n",
       "8      1542\n",
       "3      1537\n",
       "6      1473\n",
       "5      1432\n",
       "4      1402\n",
       "7      1379\n",
       "0       590\n",
       "Name: balprop1bins, dtype: int64"
      ]
     },
     "execution_count": 23,
     "metadata": {},
     "output_type": "execute_result"
    }
   ],
   "source": [
    "# bins = [0, np.linspace(0,1,.2) 1]\n",
    "bins = [0,.1,.2,.3,.4,.5,.6,.7,.8,.9,1]\n",
    "df['balprop1bins'] = np.digitize(df.balprop1,bins)\n",
    "df.balprop1bins.value_counts()\n"
   ]
  },
  {
   "cell_type": "code",
   "execution_count": 24,
   "metadata": {
    "scrolled": false
   },
   "outputs": [
    {
     "data": {
      "text/plain": [
       "0    27877\n",
       "1     2123\n",
       "Name: balprop1_two, dtype: int64"
      ]
     },
     "execution_count": 24,
     "metadata": {},
     "output_type": "execute_result"
    }
   ],
   "source": [
    "bins = [1]\n",
    "df['balprop1_two'] = np.digitize(df.balprop1,bins)\n",
    "df.balprop1_two.value_counts()\n",
    "# m = {0:'Normal', 1:'Over Drawn'}\n",
    "# PerStackBar_label_two('balprop1_two', m=m, df=df)"
   ]
  },
  {
   "cell_type": "markdown",
   "metadata": {},
   "source": [
    "# How much have you used?\n",
    "The plots and analysis above show that whether a person overdraws has significant impact on whether a person defaults on the next month. What is more, people who use less than 10% of their limit has the lowest default rate, and people who overdraws has the highet default rate. In sum, when a person uses more than 30% of their limit, they are more likely to default. \n",
    "\n",
    "Thus, I keep the index of whether a person overdraws in the final model."
   ]
  },
  {
   "cell_type": "code",
   "execution_count": 25,
   "metadata": {},
   "outputs": [],
   "source": [
    "# import pandas_profiling\n",
    "# pandas_profiling.ProfileReport(df)"
   ]
  },
  {
   "cell_type": "markdown",
   "metadata": {},
   "source": [
    "It looks like the I could not get a good clustering with the six repayment status using PCA. More parameters should be included in the model."
   ]
  },
  {
   "cell_type": "markdown",
   "metadata": {},
   "source": [
    "# Summary:\n",
    "I look at various variables in the dataset and try to find which variable significantly impact whether a person defaults in the next month. I use visualization and statistical tests. The following is a summary of the findings.\n",
    "1. Male is more likely to default than females;\n",
    "2. The highest education is university or lower is more likely to default;\n",
    "3. Married people is more likely to default than single people;\n",
    "4. People younger than 30 or older than 40 is more likely to default, especially for people older than 40.\n",
    "5. People who overdraws their balance is more likely to default.\n",
    "6. When a person uses less than 30% of their limit, they are less likely to default. \n",
    "\n",
    "There are some strange things about this dataset, including undocumented categories. How they label repayment status remains a puzzle. It seems like there are some obvious errors in terms labeling the repayment status. Future investigation should be made about how they label repayment status. What is more, more information could be collected, including the income level, the location, and more."
   ]
  },
  {
   "cell_type": "markdown",
   "metadata": {},
   "source": [
    "# More Statistical Tests\n",
    "I have used $\\chi^2$ test and t-test to test if the independent variable has an impact on whether a person defaults the next month. I want to perform the non-parametric test, permutation test, on the data to see if I get the same conclusion. The null hypothesis the same as before, that is,\n",
    "\n",
    "$H_0: \\mu_a = \\mu_b$ and $H_a: \\mu_a \\neq \\mu_b$, where a and b are two groups, for example:\n",
    "- Graduate School vs. (University and High school)\n",
    "- Married vs. Single\n",
    "- 20-30 Age Group vs. 30-40 Age Group\n",
    "- 30-40 Age Group vs. $>40$ Age Group \n",
    "- Normal vs. Overdrawn"
   ]
  },
  {
   "cell_type": "markdown",
   "metadata": {},
   "source": [
    "The permutation test results confirm the t-test results, and showed that gender, age, education, marital status, and the percentage of used balance all have significant impact on whether a person defaults the next month.\n",
    "\n",
    "# Logistic Regression\n",
    "Next I want to use all these variables to build a logistic regression using statsmodel and sklearn in Python. The independent variables are SEX, AGE(categorical), EDUCATION, MARRIAGE, balprop1 (the percentage of used balance in the most recent month, and it is a continuous variable). "
   ]
  },
  {
   "cell_type": "code",
   "execution_count": 26,
   "metadata": {
    "scrolled": true
   },
   "outputs": [],
   "source": [
    "for cat in ['PAY_1', 'PAY_2', 'PAY_3', 'PAY_4', 'PAY_5', 'balprop1bins',\n",
    "           'default', 'agecat']:\n",
    "    df[cat] = df[cat].astype('category')\n",
    "df.drop(['AGE', 'age2', 'prop1', 'balprop1', 'balprop1_two'], axis=1, inplace=True)\n",
    "# df.info()"
   ]
  },
  {
   "cell_type": "code",
   "execution_count": 27,
   "metadata": {},
   "outputs": [],
   "source": [
    "from imblearn.pipeline import Pipeline\n",
    "# machine learning\n",
    "from sklearn.compose import ColumnTransformer\n",
    "from imblearn.pipeline import Pipeline\n",
    "from sklearn.impute import SimpleImputer\n",
    "from sklearn.preprocessing import StandardScaler, OneHotEncoder\n",
    "from sklearn.ensemble import RandomForestClassifier\n",
    "from sklearn.model_selection import train_test_split, GridSearchCV\n",
    "from sklearn.feature_selection import RFE\n",
    "from sklearn.metrics import roc_auc_score\n",
    "from sklearn.metrics import accuracy_score, confusion_matrix, classification_report, precision_score\n",
    "from sklearn.linear_model import LogisticRegression, ElasticNet\n",
    "from sklearn.decomposition import PCA\n",
    "from sklearn.ensemble import GradientBoostingClassifier\n",
    "from sklearn.svm import SVC\n",
    "from xgboost import XGBClassifier\n",
    "from sklearn.preprocessing import PolynomialFeatures\n",
    "from sklearn.svm import SVC\n",
    "from sklearn.discriminant_analysis import LinearDiscriminantAnalysis\n",
    "from sklearn.metrics import roc_curve\n",
    "\n",
    "# For oversampling Library (Dealing with Imbalanced Datasets)\n",
    "from imblearn.over_sampling import SMOTE, SMOTENC, RandomOverSampler\n",
    "from collections import Counter\n",
    "\n",
    "import seaborn as sns\n",
    "import matplotlib.pyplot as plt"
   ]
  },
  {
   "cell_type": "code",
   "execution_count": 28,
   "metadata": {},
   "outputs": [],
   "source": [
    "cats = df.select_dtypes(include='category').columns.values\n",
    "con = df.select_dtypes(exclude='category').columns.values\n",
    "cat = cats[cats!='default']"
   ]
  },
  {
   "cell_type": "code",
   "execution_count": 29,
   "metadata": {},
   "outputs": [],
   "source": [
    "y = df.default.values.ravel()\n",
    "x = df.drop('default', axis=1)\n",
    "x_train, x_test, y_train, y_test = train_test_split(x, y, test_size=.33, random_state=42)"
   ]
  },
  {
   "cell_type": "code",
   "execution_count": 30,
   "metadata": {},
   "outputs": [
    {
     "name": "stdout",
     "output_type": "stream",
     "text": [
      "model score: 0.969\n",
      "Tuned Random Forest Parameter: {'classifier__C': 0.001, 'classifier__gamma': 1}\n",
      "Classification Report:\n",
      "              precision    recall  f1-score   support\n",
      "\n",
      "           0       0.89      0.06      0.12      7953\n",
      "           1       0.20      0.97      0.33      1947\n",
      "\n",
      "   micro avg       0.24      0.24      0.24      9900\n",
      "   macro avg       0.55      0.52      0.22      9900\n",
      "weighted avg       0.76      0.24      0.16      9900\n",
      "\n",
      "[[ 491 7462]\n",
      " [  60 1887]]\n"
     ]
    },
    {
     "data": {
      "image/png": "[encoded data removed]",
      "text/plain": [
       "<Figure size 432x288 with 2 Axes>"
      ]
     },
     "metadata": {},
     "output_type": "display_data"
    },
    {
     "name": "stdout",
     "output_type": "stream",
     "text": [
      "ROC AUC score: 0.5000\n"
     ]
    },
    {
     "data": {
      "image/png": "[encoded data removed]",
      "text/plain": [
       "<Figure size 432x288 with 1 Axes>"
      ]
     },
     "metadata": {},
     "output_type": "display_data"
    }
   ],
   "source": [
    "# We create the preprocessing pipelines for both numeric and categorical data.\n",
    "numeric_features = con\n",
    "numeric_transformer = Pipeline(steps=[\n",
    "    ('imputer', SimpleImputer(strategy='median')),\n",
    "    ('scaler', StandardScaler())])\n",
    "\n",
    "categorical_features = cat\n",
    "categorical_transformer = Pipeline(steps=[\n",
    "    ('imputer', SimpleImputer(strategy='most_frequent')),\n",
    "    ('onehot', OneHotEncoder(handle_unknown='ignore'))])\n",
    "\n",
    "preprocessor = ColumnTransformer(\n",
    "    transformers=[\n",
    "        ('num', numeric_transformer, numeric_features),\n",
    "        ('cat', categorical_transformer, categorical_features)])\n",
    "\n",
    "# Append classifier to preprocessing pipeline.\n",
    "# Now we have a full prediction pipeline.\n",
    "\n",
    "clf = Pipeline(steps=[('preprocessor', preprocessor),\n",
    "#                       ('interact', PolynomialFeatures(degree=2)),\n",
    "                      ('sample',  RandomOverSampler()),\n",
    "                      ('classifier', SVC(probability=True))])\n",
    "\n",
    "\n",
    "param_grid = {\n",
    "    'classifier__C': [0.001],# 0.01, 0.1, 1, 10],\n",
    "    \"classifier__gamma\":[1]#[0.001, 0.01, 0.1, 1]\n",
    "}\n",
    "\n",
    "\n",
    "\n",
    "rf_cv = GridSearchCV(clf, param_grid, cv = 5, scoring='recall')\n",
    "rf_cv.fit(x_train, y_train)\n",
    "\n",
    "print(\"model score: %.3f\" % rf_cv.score(x_test, y_test))\n",
    "print(\"Tuned Random Forest Parameter: {}\".format(rf_cv.best_params_))\n",
    "predictions_rf = rf_cv.predict(x_test)\n",
    "\n",
    "# Classification Report of Prediction\n",
    "print(\"Classification Report:\")\n",
    "print(classification_report(y_test, predictions_rf))\n",
    "# Confusion Matrix for predictions made\n",
    "conf2 = confusion_matrix(y_test,predictions_rf)\n",
    "print(conf2)\n",
    "# Plot Confusion Matrix\n",
    "label = [\"0\",\"1\"]\n",
    "sns.heatmap(conf2, annot=True, xticklabels=label, yticklabels=label,fmt='g')\n",
    "plt.show()\n",
    "\n",
    "y_pred_proba = rf_cv.predict_proba(x_test)[:,1]\n",
    "# Evaluate test-set roc_auc_score\n",
    "rf_roc_auc = roc_auc_score(y_test, y_pred_proba)\n",
    "# Print roc_auc_score\n",
    "print('ROC AUC score: {:.4f}'.format(rf_roc_auc))\n",
    "\n",
    "plt.style.use('ggplot')\n",
    "fpr, tpr, thresholds = roc_curve(y_test, y_pred_proba)\n",
    "plt.plot([0,1], [0,1], 'k--')\n",
    "plt.plot(fpr, tpr)\n",
    "plt.xlabel('False Positive Rate')\n",
    "plt.ylabel('True Positive Rate')\n",
    "plt.show()"
   ]
  },
  {
   "cell_type": "code",
   "execution_count": null,
   "metadata": {},
   "outputs": [],
   "source": []
  },
  {
   "cell_type": "code",
   "execution_count": null,
   "metadata": {},
   "outputs": [],
   "source": [
    "# We create the preprocessing pipelines for both numeric and categorical data.\n",
    "numeric_features = con\n",
    "numeric_transformer = Pipeline(steps=[\n",
    "    ('imputer', SimpleImputer(strategy='median')),\n",
    "    ('scaler', StandardScaler())])\n",
    "\n",
    "categorical_features = cat\n",
    "categorical_transformer = Pipeline(steps=[\n",
    "    ('imputer', SimpleImputer(strategy='most_frequent')),\n",
    "    ('onehot', OneHotEncoder(handle_unknown='ignore'))])\n",
    "\n",
    "preprocessor = ColumnTransformer(\n",
    "    transformers=[\n",
    "        ('num', numeric_transformer, numeric_features),\n",
    "        ('cat', categorical_transformer, categorical_features)])\n",
    "\n",
    "# Append classifier to preprocessing pipeline.\n",
    "# Now we have a full prediction pipeline.\n",
    "\n",
    "clf = Pipeline(steps=[('preprocessor', preprocessor),\n",
    "#                       ('interact', PolynomialFeatures(degree=2)),\n",
    "                      ('sample',  RandomOverSampler()),\n",
    "                      ('classifier', SVC(probability=True))])\n",
    "\n",
    "\n",
    "# param_grid = {\n",
    "#     'classifier__C': [0.001,  1, 10],\n",
    "#     \"classifier__gamma\":[0.001, 0.1, 1]\n",
    "# }\n",
    "param_grid = {\n",
    "    'classifier__C': [0.001],# 0.01, 0.1, 1, 10],\n",
    "    \"classifier__gamma\":[1]#[0.001, 0.01, 0.1, 1]\n",
    "}\n",
    "\n",
    "\n",
    "\n",
    "\n",
    "rf_cv = GridSearchCV(clf, param_grid, cv = 5, scoring='f1')\n",
    "\n",
    "rf_cv.fit(x_train, y_train)\n",
    "\n",
    "print(\"model score: %.3f\" % rf_cv.score(x_test, y_test))\n",
    "print(\"Tuned Random Forest Parameter: {}\".format(rf_cv.best_params_))\n",
    "predictions_rf = rf_cv.predict(x_test)\n",
    "\n",
    "# Classification Report of Prediction\n",
    "print(\"Classification Report:\")\n",
    "print(classification_report(y_test, predictions_rf))\n",
    "# Confusion Matrix for predictions made\n",
    "conf2 = confusion_matrix(y_test,predictions_rf)\n",
    "print(conf2)\n",
    "# Plot Confusion Matrix\n",
    "label = [\"0\",\"1\"]\n",
    "sns.heatmap(conf2, annot=True, xticklabels=label, yticklabels=label,fmt='g')\n",
    "plt.show()\n",
    "\n",
    "y_pred_proba = rf_cv.predict_proba(x_test)[:,1]\n",
    "# Evaluate test-set roc_auc_score\n",
    "rf_roc_auc = roc_auc_score(y_test, y_pred_proba)\n",
    "# Print roc_auc_score\n",
    "print('ROC AUC score: {:.4f}'.format(rf_roc_auc))\n",
    "\n",
    "\n",
    "fpr, tpr, thresholds = roc_curve(y_test, y_pred_proba)\n",
    "plt.plot([0,1], [0,1], 'k--')\n",
    "plt.plot(fpr, tpr)\n",
    "plt.xlabel('False Positive Rate')\n",
    "plt.ylabel('True Positive Rate')\n",
    "plt.show()"
   ]
  },
  {
   "cell_type": "code",
   "execution_count": null,
   "metadata": {},
   "outputs": [],
   "source": []
  },
  {
   "cell_type": "code",
   "execution_count": null,
   "metadata": {},
   "outputs": [],
   "source": [
    "# We create the preprocessing pipelines for both numeric and categorical data.\n",
    "numeric_features = con\n",
    "numeric_transformer = Pipeline(steps=[\n",
    "    ('imputer', SimpleImputer(strategy='median')),\n",
    "    ('scaler', StandardScaler())])\n",
    "\n",
    "categorical_features = cat\n",
    "categorical_transformer = Pipeline(steps=[\n",
    "    ('imputer', SimpleImputer(strategy='most_frequent')),\n",
    "    ('onehot', OneHotEncoder(handle_unknown='ignore'))])\n",
    "\n",
    "preprocessor = ColumnTransformer(\n",
    "    transformers=[\n",
    "        ('num', numeric_transformer, numeric_features),\n",
    "        ('cat', categorical_transformer, categorical_features)])\n",
    "\n",
    "# Append classifier to preprocessing pipeline.\n",
    "# Now we have a full prediction pipeline.\n",
    "\n",
    "clf = Pipeline(steps=[('preprocessor', preprocessor),\n",
    "#                       ('interact', PolynomialFeatures(degree=2)),\n",
    "                      ('sample',  RandomOverSampler()),\n",
    "                      ('classifier', SVC(probability=True))])\n",
    "\n",
    "\n",
    "param_grid = {\n",
    "    'classifier__C': [0.001,  1, 10],\n",
    "    \"classifier__gamma\":[0.001, 0.1, 1]\n",
    "}\n",
    "# param_grid = {\n",
    "#     'classifier__C': [0.001],# 0.01, 0.1, 1, 10],\n",
    "#     \"classifier__gamma\":[1]#[0.001, 0.01, 0.1, 1]\n",
    "# }\n",
    "\n",
    "\n",
    "\n",
    "\n",
    "rf_cv = GridSearchCV(clf, param_grid, cv = 5, scoring='roc_auc')\n",
    "\n",
    "rf_cv.fit(x_train, y_train)\n",
    "\n",
    "print(\"model score: %.3f\" % rf_cv.score(x_test, y_test))\n",
    "print(\"Tuned Random Forest Parameter: {}\".format(rf_cv.best_params_))\n",
    "predictions_rf = rf_cv.predict(x_test)\n",
    "\n",
    "# Classification Report of Prediction\n",
    "print(\"Classification Report:\")\n",
    "print(classification_report(y_test, predictions_rf))\n",
    "# Confusion Matrix for predictions made\n",
    "conf2 = confusion_matrix(y_test,predictions_rf)\n",
    "print(conf2)\n",
    "# Plot Confusion Matrix\n",
    "label = [\"0\",\"1\"]\n",
    "sns.heatmap(conf2, annot=True, xticklabels=label, yticklabels=label,fmt='g')\n",
    "plt.show()\n",
    "\n",
    "y_pred_proba = rf_cv.predict_proba(x_test)[:,1]\n",
    "# Evaluate test-set roc_auc_score\n",
    "rf_roc_auc = roc_auc_score(y_test, y_pred_proba)\n",
    "# Print roc_auc_score\n",
    "print('ROC AUC score: {:.4f}'.format(rf_roc_auc))\n",
    "\n",
    "\n",
    "fpr, tpr, thresholds = roc_curve(y_test, y_pred_proba)\n",
    "plt.plot([0,1], [0,1], 'k--')\n",
    "plt.plot(fpr, tpr)\n",
    "plt.xlabel('False Positive Rate')\n",
    "plt.ylabel('True Positive Rate')\n",
    "plt.show()"
   ]
  }
 ],
 "metadata": {
  "kernelspec": {
   "display_name": "Python 3",
   "language": "python",
   "name": "python3"
  },
  "language_info": {
   "codemirror_mode": {
    "name": "ipython",
    "version": 3
   },
   "file_extension": ".py",
   "mimetype": "text/x-python",
   "name": "python",
   "nbconvert_exporter": "python",
   "pygments_lexer": "ipython3",
   "version": "3.6.5"
  }
 },
 "nbformat": 4,
 "nbformat_minor": 2
}
